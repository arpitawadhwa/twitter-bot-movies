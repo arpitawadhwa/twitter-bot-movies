{
 "cells": [
  {
   "cell_type": "code",
   "execution_count": 178,
   "id": "ca48a692",
   "metadata": {},
   "outputs": [
    {
     "ename": "TypeError",
     "evalue": "the first argument must be callable",
     "output_type": "error",
     "traceback": [
      "\u001b[1;31m---------------------------------------------------------------------------\u001b[0m",
      "\u001b[1;31mTypeError\u001b[0m                                 Traceback (most recent call last)",
      "Input \u001b[1;32mIn [178]\u001b[0m, in \u001b[0;36m<module>\u001b[1;34m\u001b[0m\n\u001b[0;32m     48\u001b[0m     sendTw \u001b[38;5;241m=\u001b[39m WebDriverWait(driver, \u001b[38;5;241m10\u001b[39m)\u001b[38;5;241m.\u001b[39muntil(EC\u001b[38;5;241m.\u001b[39melement_to_be_clickable((By\u001b[38;5;241m.\u001b[39mXPATH, \u001b[38;5;124m'\u001b[39m\u001b[38;5;124m/html/body/div[1]/div/div/div[2]/main/div/div/div/div/div/div[3]/div/div[2]/div[1]/div/div/div/div[2]/div[3]/div/div/div[2]/div[3]/div/span/span\u001b[39m\u001b[38;5;124m'\u001b[39m)))\n\u001b[0;32m     49\u001b[0m     sendTw\u001b[38;5;241m.\u001b[39mclick()\n\u001b[1;32m---> 51\u001b[0m \u001b[43mschedule\u001b[49m\u001b[38;5;241;43m.\u001b[39;49m\u001b[43mevery\u001b[49m\u001b[43m(\u001b[49m\u001b[38;5;241;43m2\u001b[39;49m\u001b[43m)\u001b[49m\u001b[38;5;241;43m.\u001b[39;49m\u001b[43mhours\u001b[49m\u001b[38;5;241;43m.\u001b[39;49m\u001b[43mdo\u001b[49m\u001b[43m(\u001b[49m\u001b[43mlogintweet\u001b[49m\u001b[43m(\u001b[49m\u001b[38;5;124;43m'\u001b[39;49m\u001b[38;5;124;43mchachascriptbot\u001b[39;49m\u001b[38;5;124;43m'\u001b[39;49m\u001b[43m,\u001b[49m\u001b[38;5;124;43m'\u001b[39;49m\u001b[38;5;124;43m159842-aW\u001b[39;49m\u001b[38;5;124;43m'\u001b[39;49m\u001b[43m)\u001b[49m\u001b[43m)\u001b[49m\n\u001b[0;32m     53\u001b[0m \u001b[38;5;28;01mwhile\u001b[39;00m \u001b[38;5;28;01mTrue\u001b[39;00m:\n\u001b[0;32m     54\u001b[0m     schedule\u001b[38;5;241m.\u001b[39mrun_pending()\n",
      "File \u001b[1;32m~\\AppData\\Local\\Programs\\Python\\Python310\\lib\\site-packages\\schedule\\__init__.py:625\u001b[0m, in \u001b[0;36mJob.do\u001b[1;34m(self, job_func, *args, **kwargs)\u001b[0m\n\u001b[0;32m    614\u001b[0m \u001b[38;5;28;01mdef\u001b[39;00m \u001b[38;5;21mdo\u001b[39m(\u001b[38;5;28mself\u001b[39m, job_func: Callable, \u001b[38;5;241m*\u001b[39margs, \u001b[38;5;241m*\u001b[39m\u001b[38;5;241m*\u001b[39mkwargs):\n\u001b[0;32m    615\u001b[0m     \u001b[38;5;124;03m\"\"\"\u001b[39;00m\n\u001b[0;32m    616\u001b[0m \u001b[38;5;124;03m    Specifies the job_func that should be called every time the\u001b[39;00m\n\u001b[0;32m    617\u001b[0m \u001b[38;5;124;03m    job runs.\u001b[39;00m\n\u001b[1;32m   (...)\u001b[0m\n\u001b[0;32m    623\u001b[0m \u001b[38;5;124;03m    :return: The invoked job instance\u001b[39;00m\n\u001b[0;32m    624\u001b[0m \u001b[38;5;124;03m    \"\"\"\u001b[39;00m\n\u001b[1;32m--> 625\u001b[0m     \u001b[38;5;28mself\u001b[39m\u001b[38;5;241m.\u001b[39mjob_func \u001b[38;5;241m=\u001b[39m functools\u001b[38;5;241m.\u001b[39mpartial(job_func, \u001b[38;5;241m*\u001b[39margs, \u001b[38;5;241m*\u001b[39m\u001b[38;5;241m*\u001b[39mkwargs)\n\u001b[0;32m    626\u001b[0m     functools\u001b[38;5;241m.\u001b[39mupdate_wrapper(\u001b[38;5;28mself\u001b[39m\u001b[38;5;241m.\u001b[39mjob_func, job_func)\n\u001b[0;32m    627\u001b[0m     \u001b[38;5;28mself\u001b[39m\u001b[38;5;241m.\u001b[39m_schedule_next_run()\n",
      "\u001b[1;31mTypeError\u001b[0m: the first argument must be callable"
     ]
    }
   ],
   "source": [
    "import time\n",
    "import schedule\n",
    "from selenium import webdriver\n",
    "from selenium.webdriver.common.keys import Keys\n",
    "from selenium.webdriver.common.by import By\n",
    "from selenium.webdriver.support.ui import WebDriverWait \n",
    "from selenium.webdriver.support import expected_conditions as EC\n",
    "import pandas as pd\n",
    "\n",
    "#Import\n",
    "quotes = pd.read_excel(r'C:\\Users\\Arpita Wadhwa\\Desktop\\automation_fun\\magicboxbot\\chacharealquotes.xlsx')\n",
    "quonvert = quotes.values.tolist()\n",
    "tweety = random.choice(quonvert)\n",
    "tweet = str(*tweety)\n",
    "\n",
    "def logintweet(username, password):\n",
    "    # Automatically install chromedriver, avoiding need to tinker.\n",
    "    driver = webdriver.Chrome(r\"C:\\Users\\Arpita Wadhwa\\Desktop\\automation_fun\\magicboxbot\\chromedriver\")\n",
    "    driver.get(\"https://twitter.com/i/flow/login\")\n",
    "    # Get login page using Selenium\n",
    "    time.sleep(5)\n",
    "    # Sleep to allow page to load\n",
    "    username_field = driver.find_element_by_xpath('//input[@autocomplete=\"username\"]')\n",
    "    # Assign xpath of username form field to variable\n",
    "    username_field.send_keys(username)\n",
    "    # Enter the value passed as username into field\n",
    "    time.sleep(1)\n",
    "    # Sleep for 1sec so you can see it enter your username\n",
    "    username_field.send_keys(Keys.RETURN)\n",
    "    # Automated enter key press\n",
    "    time.sleep(5)\n",
    "    # Sleep again for 5 so password page can load\n",
    "    password_field = WebDriverWait(driver, 10).until(EC.element_to_be_clickable((By.NAME, \"password\")))\n",
    "    # Assign xpath of password form field to variable\n",
    "    password_field.send_keys(password)\n",
    "    # Enter the value passed as password into field\n",
    "    time.sleep(1)\n",
    "    # Sleep for 1sec so you can see it enter password\n",
    "    password_field.send_keys(Keys.RETURN)\n",
    "    # Automated enter key press\n",
    "    time.sleep(10)\n",
    "    # Sleep for 10 sec so it doesn't close the page on submission\n",
    "    autotw1 = WebDriverWait(driver, 10).until(EC.element_to_be_clickable((By.CLASS_NAME, 'DraftEditor-root')))\n",
    "    autotw1.click()\n",
    "    element = WebDriverWait(driver, 3).until(EC.element_to_be_clickable((By.CLASS_NAME, 'public-DraftEditorPlaceholder-root')))\n",
    "    ActionChains(driver).move_to_element(element).send_keys(f\"{tweet}\").perform()\n",
    "    sendTw = WebDriverWait(driver, 10).until(EC.element_to_be_clickable((By.XPATH, '/html/body/div[1]/div/div/div[2]/main/div/div/div/div/div/div[3]/div/div[2]/div[1]/div/div/div/div[2]/div[3]/div/div/div[2]/div[3]/div/span/span')))\n",
    "    sendTw.click()\n",
    "\n",
    "schedule.every(2).hour.do(logintweet)\n",
    "    \n",
    "if __name__ == \"__main__\":\n",
    "    # Enter your username and password below\n",
    "    logintweet('chachascriptbot','159842-aW')"
   ]
  },
  {
   "cell_type": "code",
   "execution_count": 171,
   "id": "7235cce6",
   "metadata": {},
   "outputs": [],
   "source": []
  }
 ],
 "metadata": {
  "kernelspec": {
   "display_name": "Python 3 (ipykernel)",
   "language": "python",
   "name": "python3"
  },
  "language_info": {
   "codemirror_mode": {
    "name": "ipython",
    "version": 3
   },
   "file_extension": ".py",
   "mimetype": "text/x-python",
   "name": "python",
   "nbconvert_exporter": "python",
   "pygments_lexer": "ipython3",
   "version": "3.10.1"
  }
 },
 "nbformat": 4,
 "nbformat_minor": 5
}
